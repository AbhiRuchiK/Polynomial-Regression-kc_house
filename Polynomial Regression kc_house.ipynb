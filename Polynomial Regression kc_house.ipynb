{
 "cells": [
  {
   "cell_type": "code",
   "execution_count": 1,
   "metadata": {},
   "outputs": [],
   "source": [
    "import numpy as np\n",
    "import pandas as pd\n",
    "from matplotlib import pyplot as plt\n",
    "from collections import Counter\n",
    "\n",
    "AllData = pd.read_csv('kc_house_data.xls')\n",
    "Train = (AllData[0: int(.60*(len(AllData)))])\n",
    "Test = (AllData[int(.60*(len(AllData))): ])"
   ]
  },
  {
   "cell_type": "code",
   "execution_count": 2,
   "metadata": {
    "scrolled": true
   },
   "outputs": [],
   "source": [
    "TrainPrice = (np.array(Train.price))/max(Train.price)\n",
    "sqft_living15 = (np.array(Train.sqft_living15))/ max(Train.sqft_living15)\n",
    "Trainsqft_living15 = (np.array([(sqft_living15**3), (sqft_living15**2), sqft_living15, (np.array([1]*12967))])).T"
   ]
  },
  {
   "cell_type": "code",
   "execution_count": null,
   "metadata": {
    "scrolled": true
   },
   "outputs": [],
   "source": [
    "alpha = .1\n",
    "ThetasOld = (np.random.rand(4)).T\n",
    "\n",
    "for i in range(60000):\n",
    "#     Intermediateresult = (np.dot(Trainsqft_living15, ThetasOld))\n",
    "#     Intermediateresult = Intermediateresult - TrainPrice\n",
    "#     Intermediateresult = (np.dot(Intermediateresult , Trainsqft_living15))*2\n",
    "    Intermediateresult = ((np.dot((np.dot(Trainsqft_living15, ThetasOld) - TrainPrice), Trainsqft_living15))*2)/len(Train)\n",
    "    ThetasOld = ThetasOld - np.dot(Intermediateresult,alpha) \n",
    "    "
   ]
  },
  {
   "cell_type": "code",
   "execution_count": null,
   "metadata": {},
   "outputs": [],
   "source": [
    "reg_line = np.array([(( ThetasOld[0]*(X**3)) + (ThetasOld[1]*(X**2))+ (ThetasOld[2]*X) + ThetasOld[3]) for X in sqft_living15])"
   ]
  },
  {
   "cell_type": "code",
   "execution_count": null,
   "metadata": {
    "scrolled": false
   },
   "outputs": [],
   "source": [
    "plt.scatter(sqft_living15, TrainPrice)\n",
    "plt.plot(sqft_living15, reg_line, color=\"red\")\n",
    "plt.show()"
   ]
  },
  {
   "cell_type": "code",
   "execution_count": null,
   "metadata": {},
   "outputs": [],
   "source": [
    "Testsqft_living15 = np.array(Test.sqft_living15)/ max(Test.sqft_living15)\n",
    "TestPrice = np.array(Test.price)/ max(Test.price)"
   ]
  },
  {
   "cell_type": "code",
   "execution_count": null,
   "metadata": {},
   "outputs": [],
   "source": [
    "reg_line = np.array([(( ThetasOld[0]*(X**3)) + (ThetasOld[1]*(X**2))+ (ThetasOld[2]*X) + ThetasOld[3]) for X in Testsqft_living15])"
   ]
  },
  {
   "cell_type": "code",
   "execution_count": null,
   "metadata": {},
   "outputs": [],
   "source": [
    "plt.scatter(Testsqft_living15, TestPrice)\n",
    "plt.scatter(Testsqft_living15, reg_line, color=\"red\")\n",
    "plt.show()"
   ]
  },
  {
   "cell_type": "code",
   "execution_count": null,
   "metadata": {},
   "outputs": [],
   "source": [
    "error = sum((Testsqft_living15 - reg_line)**2)/len(Test)"
   ]
  },
  {
   "cell_type": "code",
   "execution_count": null,
   "metadata": {},
   "outputs": [],
   "source": []
  }
 ],
 "metadata": {
  "kernelspec": {
   "display_name": "Python 3",
   "language": "python",
   "name": "python3"
  },
  "language_info": {
   "codemirror_mode": {
    "name": "ipython",
    "version": 3
   },
   "file_extension": ".py",
   "mimetype": "text/x-python",
   "name": "python",
   "nbconvert_exporter": "python",
   "pygments_lexer": "ipython3",
   "version": "3.5.5"
  }
 },
 "nbformat": 4,
 "nbformat_minor": 2
}
